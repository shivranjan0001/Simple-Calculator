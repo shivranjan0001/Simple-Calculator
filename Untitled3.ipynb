{
 "cells": [
  {
   "cell_type": "code",
   "execution_count": null,
   "metadata": {},
   "outputs": [],
   "source": [
    "def add(x,y):\n",
    "    return x+y\n",
    "def sub(x,y):\n",
    "    return x-y\n",
    "def mul(x,y):\n",
    "    return x*y\n",
    "def div(x,y):\n",
    "    return x/y\n",
    "    print('1.add')\n",
    "    print('2.sub')\n",
    "    print('3.mul')\n",
    "    print('4.div')\n",
    "choice=input('Enter the choice')\n",
    "n1=int(input('Enter the value of n1'))\n",
    "n2=int(input('Enter the value of n2'))\n",
    "if(choice=='1'):\n",
    "    print('the addition of two number is',add(n1,n2))\n",
    "elif(choice=='2'):\n",
    "    print('the subtraction of two number is',sub(n1,n2))\n",
    "elif(choice=='3'):\n",
    "    print('the multiplication of two number is',mul(n1,n2))\n",
    "elif(choice=='4'):\n",
    "    print('the division of two number is',div(n1,n2))\n",
    "else:\n",
    "    print('Invalid Choice')"
   ]
  }
 ],
 "metadata": {
  "kernelspec": {
   "display_name": "Python 3",
   "language": "python",
   "name": "python3"
  },
  "language_info": {
   "codemirror_mode": {
    "name": "ipython",
    "version": 3
   },
   "file_extension": ".py",
   "mimetype": "text/x-python",
   "name": "python",
   "nbconvert_exporter": "python",
   "pygments_lexer": "ipython3",
   "version": "3.7.3"
  }
 },
 "nbformat": 4,
 "nbformat_minor": 2
}
